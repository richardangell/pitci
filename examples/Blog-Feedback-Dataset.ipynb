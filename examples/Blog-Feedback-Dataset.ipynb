{
 "cells": [
  {
   "cell_type": "markdown",
   "id": "c9459eb5",
   "metadata": {},
   "source": [
    "# Blog Feedback Dataset - Prediction Intervals using `pitci`\n",
    "This notebook gives an example of using the `XGBoosterAbsoluteErrorConformalPredictor` and `XGBoosterLeafNodeScaledConformalPredictor` classes to generate non-varying and varying prediction intervals respectively, on the [blog feedback dataset](https://archive.ics.uci.edu/ml/datasets/BlogFeedback)."
   ]
  },
  {
   "cell_type": "code",
   "execution_count": 1,
   "id": "8e40f2fe",
   "metadata": {},
   "outputs": [],
   "source": [
    "import pandas as pd\n",
    "import numpy as np\n",
    "import xgboost as xgb\n",
    "import requests\n",
    "import zipfile\n",
    "from pathlib import Path\n",
    "from sklearn.metrics import mean_absolute_error, r2_score, mean_squared_error"
   ]
  },
  {
   "cell_type": "code",
   "execution_count": 2,
   "id": "08a4e704",
   "metadata": {},
   "outputs": [
    {
     "data": {
      "text/plain": [
       "'0.2.0'"
      ]
     },
     "execution_count": 2,
     "metadata": {},
     "output_type": "execute_result"
    }
   ],
   "source": [
    "import pitci\n",
    "pitci.__version__"
   ]
  },
  {
   "cell_type": "markdown",
   "id": "4f1d3460",
   "metadata": {},
   "source": [
    "# Build example xgboost model"
   ]
  },
  {
   "cell_type": "markdown",
   "id": "b2d30d25",
   "metadata": {},
   "source": [
    "## Download data"
   ]
  },
  {
   "cell_type": "code",
   "execution_count": 3,
   "id": "de8ab7e9",
   "metadata": {},
   "outputs": [],
   "source": [
    "zip_address = (\n",
    "    \"https://archive.ics.uci.edu/ml/machine-learning-databases/00304/BlogFeedback.zip\"\n",
    ")"
   ]
  },
  {
   "cell_type": "code",
   "execution_count": 4,
   "id": "71463369",
   "metadata": {},
   "outputs": [],
   "source": [
    "dataloaded_data_location = \"data/BlogFeedback.zip\""
   ]
  },
  {
   "cell_type": "code",
   "execution_count": 5,
   "id": "d3c9806d",
   "metadata": {},
   "outputs": [],
   "source": [
    "if not Path(dataloaded_data_location).is_file():\n",
    "\n",
    "    r = requests.get(zip_address)\n",
    "\n",
    "    with open(dataloaded_data_location, \"wb\") as f:\n",
    "\n",
    "        f.write(r.content)\n",
    "\n",
    "    with zipfile.ZipFile(dataloaded_data_location, \"r\") as zip_ref:\n",
    "\n",
    "        zip_ref.extractall(\"data/blogfeedback\")"
   ]
  },
  {
   "cell_type": "markdown",
   "id": "826c76fb",
   "metadata": {},
   "source": [
    "## Import data"
   ]
  },
  {
   "cell_type": "code",
   "execution_count": 6,
   "id": "97f5cf12",
   "metadata": {},
   "outputs": [],
   "source": [
    "train = pd.read_csv(\"data/blogfeedback/blogData_train.csv\", header=None)\n",
    "train.rename(columns={280: \"number_comments\"}, inplace=True)"
   ]
  },
  {
   "cell_type": "code",
   "execution_count": 7,
   "id": "aa7b9868",
   "metadata": {},
   "outputs": [],
   "source": [
    "test = pd.concat(\n",
    "    [pd.read_csv(x, header=None) for x in Path(\"data/blogfeedback/\").glob(\"*test*\")],\n",
    "    axis=0,\n",
    ")\n",
    "test.rename(columns={280: \"number_comments\"}, inplace=True)"
   ]
  },
  {
   "cell_type": "markdown",
   "id": "ad7c2dc4",
   "metadata": {},
   "source": [
    "## Add sample column\n",
    "Create a sample column with 3 values that will be used in the following way; <br>\n",
    "1: (65%) train <br>\n",
    "2: (17.5%) validate (early stopping) <br>\n",
    "3: (17.5%) interval <br>\n",
    "The test sample is provided in a different dataframe."
   ]
  },
  {
   "cell_type": "code",
   "execution_count": 8,
   "id": "b9baf99b",
   "metadata": {},
   "outputs": [],
   "source": [
    "np.random.seed(1)\n",
    "random_col = np.random.random(train.shape[0])\n",
    "train[\"sample\"] = \"train\"\n",
    "train.loc[random_col > 0.65, \"sample\"] = \"validate\"\n",
    "train.loc[random_col > 0.825, \"sample\"] = \"interval\""
   ]
  },
  {
   "cell_type": "markdown",
   "id": "84aac384",
   "metadata": {},
   "source": [
    "## Append train and test datasets"
   ]
  },
  {
   "cell_type": "code",
   "execution_count": 9,
   "id": "5b6c0ebc",
   "metadata": {},
   "outputs": [],
   "source": [
    "test[\"sample\"] = \"test\""
   ]
  },
  {
   "cell_type": "code",
   "execution_count": 10,
   "id": "a55314c2",
   "metadata": {},
   "outputs": [],
   "source": [
    "train = train.append(test)"
   ]
  },
  {
   "cell_type": "markdown",
   "id": "5367e073",
   "metadata": {},
   "source": [
    "## Create xgboost DMatrices"
   ]
  },
  {
   "cell_type": "code",
   "execution_count": 11,
   "id": "6bb148ed",
   "metadata": {},
   "outputs": [],
   "source": [
    "response = \"number_comments\""
   ]
  },
  {
   "cell_type": "code",
   "execution_count": 12,
   "id": "970e2b8e",
   "metadata": {},
   "outputs": [],
   "source": [
    "xgb_data_train = xgb.DMatrix(\n",
    "    data=train.loc[train[\"sample\"] == \"train\"].drop(columns=[response, \"sample\"]),\n",
    "    label=train.loc[train[\"sample\"] == \"train\", response],\n",
    ")"
   ]
  },
  {
   "cell_type": "code",
   "execution_count": 13,
   "id": "8e3fa8ef",
   "metadata": {},
   "outputs": [],
   "source": [
    "xgb_data_valid = xgb.DMatrix(\n",
    "    data=train.loc[train[\"sample\"] == \"validate\"].drop(columns=[response, \"sample\"]),\n",
    "    label=train.loc[train[\"sample\"] == \"validate\", response],\n",
    ")"
   ]
  },
  {
   "cell_type": "code",
   "execution_count": 14,
   "id": "9e706ad2",
   "metadata": {},
   "outputs": [],
   "source": [
    "xgb_data_interval = xgb.DMatrix(\n",
    "    data=train.loc[train[\"sample\"] == \"interval\"].drop(columns=[response, \"sample\"]),\n",
    "    label=train.loc[train[\"sample\"] == \"interval\", response],\n",
    ")"
   ]
  },
  {
   "cell_type": "code",
   "execution_count": 15,
   "id": "42cffdcc",
   "metadata": {},
   "outputs": [],
   "source": [
    "xgb_data_test = xgb.DMatrix(\n",
    "    data=train.loc[train[\"sample\"] == \"test\"].drop(columns=[response, \"sample\"]),\n",
    "    label=train.loc[train[\"sample\"] == \"test\", response],\n",
    ")"
   ]
  },
  {
   "cell_type": "markdown",
   "id": "c6e3bfee",
   "metadata": {},
   "source": [
    "## Build model"
   ]
  },
  {
   "cell_type": "code",
   "execution_count": 16,
   "id": "78ef96f3",
   "metadata": {},
   "outputs": [
    {
     "name": "stdout",
     "output_type": "stream",
     "text": [
      "[0]\tvalid-rmse:36.10511\n",
      "[1]\tvalid-rmse:35.12481\n",
      "[2]\tvalid-rmse:34.19807\n",
      "[3]\tvalid-rmse:33.35577\n",
      "[4]\tvalid-rmse:32.54045\n",
      "[5]\tvalid-rmse:31.77661\n",
      "[6]\tvalid-rmse:31.07890\n",
      "[7]\tvalid-rmse:30.47846\n",
      "[8]\tvalid-rmse:29.92681\n",
      "[9]\tvalid-rmse:29.48078\n",
      "[10]\tvalid-rmse:29.02127\n",
      "[11]\tvalid-rmse:28.59313\n",
      "[12]\tvalid-rmse:28.22241\n",
      "[13]\tvalid-rmse:27.85019\n",
      "[14]\tvalid-rmse:27.52244\n",
      "[15]\tvalid-rmse:27.21372\n",
      "[16]\tvalid-rmse:26.93135\n",
      "[17]\tvalid-rmse:26.71505\n",
      "[18]\tvalid-rmse:26.53474\n",
      "[19]\tvalid-rmse:26.35969\n",
      "[20]\tvalid-rmse:26.16496\n",
      "[21]\tvalid-rmse:25.99391\n",
      "[22]\tvalid-rmse:25.88487\n",
      "[23]\tvalid-rmse:25.75129\n",
      "[24]\tvalid-rmse:25.61705\n",
      "[25]\tvalid-rmse:25.53448\n",
      "[26]\tvalid-rmse:25.43436\n",
      "[27]\tvalid-rmse:25.32747\n",
      "[28]\tvalid-rmse:25.23336\n",
      "[29]\tvalid-rmse:25.22537\n",
      "[30]\tvalid-rmse:25.19106\n",
      "[31]\tvalid-rmse:25.17925\n",
      "[32]\tvalid-rmse:25.15325\n",
      "[33]\tvalid-rmse:25.12523\n",
      "[34]\tvalid-rmse:25.06228\n",
      "[35]\tvalid-rmse:25.01829\n",
      "[36]\tvalid-rmse:24.95198\n",
      "[37]\tvalid-rmse:24.98485\n",
      "[38]\tvalid-rmse:24.92426\n",
      "[39]\tvalid-rmse:24.88181\n",
      "[40]\tvalid-rmse:24.88797\n",
      "[41]\tvalid-rmse:24.86226\n",
      "[42]\tvalid-rmse:24.86823\n",
      "[43]\tvalid-rmse:24.84843\n",
      "[44]\tvalid-rmse:24.84409\n",
      "[45]\tvalid-rmse:24.81788\n",
      "[46]\tvalid-rmse:24.82422\n",
      "[47]\tvalid-rmse:24.87097\n",
      "[48]\tvalid-rmse:24.86258\n",
      "[49]\tvalid-rmse:24.86508\n",
      "[50]\tvalid-rmse:24.86210\n"
     ]
    }
   ],
   "source": [
    "model = xgb.train(\n",
    "    params={\"max_depth\": 5, \"eta\": 0.05},\n",
    "    dtrain=xgb_data_train,\n",
    "    num_boost_round=500,\n",
    "    evals=[(xgb_data_valid, \"valid\")],\n",
    "    early_stopping_rounds=5,\n",
    ")"
   ]
  },
  {
   "cell_type": "markdown",
   "id": "3d54823d",
   "metadata": {},
   "source": [
    "# Generate prediction intervals"
   ]
  },
  {
   "cell_type": "markdown",
   "id": "acf1f0d7",
   "metadata": {},
   "source": [
    "## Non-varying intervals with `AbsoluteErrorConformalPredictor`\n",
    "### Calibrate conformal predictor"
   ]
  },
  {
   "cell_type": "code",
   "execution_count": 17,
   "id": "7b31bc50",
   "metadata": {},
   "outputs": [
    {
     "data": {
      "text/plain": [
       "pitci.xgboost.XGBoosterAbsoluteErrorConformalPredictor"
      ]
     },
     "execution_count": 17,
     "metadata": {},
     "output_type": "execute_result"
    }
   ],
   "source": [
    "confo_model1 = pitci.get_absolute_error_conformal_predictor(model)\n",
    "type(confo_model1)"
   ]
  },
  {
   "cell_type": "code",
   "execution_count": 18,
   "id": "13ac89ab",
   "metadata": {
    "lines_to_next_cell": 2
   },
   "outputs": [],
   "source": [
    "confo_model1.calibrate(data=xgb_data_interval, alpha=0.8)"
   ]
  },
  {
   "cell_type": "code",
   "execution_count": 19,
   "id": "547f8745",
   "metadata": {},
   "outputs": [
    {
     "data": {
      "text/plain": [
       "3.4589214"
      ]
     },
     "execution_count": 19,
     "metadata": {},
     "output_type": "execute_result"
    }
   ],
   "source": [
    "confo_model1.baseline_interval"
   ]
  },
  {
   "cell_type": "markdown",
   "id": "34ec5363",
   "metadata": {},
   "source": [
    "### Generate prediction intervals"
   ]
  },
  {
   "cell_type": "code",
   "execution_count": 20,
   "id": "0499b1a0",
   "metadata": {},
   "outputs": [],
   "source": [
    "pred_intervals = confo_model1.predict_with_interval(xgb_data_interval)"
   ]
  },
  {
   "cell_type": "code",
   "execution_count": 21,
   "id": "4f428476",
   "metadata": {},
   "outputs": [
    {
     "data": {
      "text/plain": [
       "True     0.800066\n",
       "False    0.199934\n",
       "Name: number_comments, dtype: float64"
      ]
     },
     "execution_count": 21,
     "metadata": {},
     "output_type": "execute_result"
    }
   ],
   "source": [
    "pitci.helpers.check_response_within_interval(\n",
    "    intervals_with_predictions=pred_intervals,\n",
    "    response=train.loc[train[\"sample\"] == \"interval\", response],\n",
    ")"
   ]
  },
  {
   "cell_type": "code",
   "execution_count": 22,
   "id": "3fc87cc7",
   "metadata": {},
   "outputs": [
    {
     "data": {
      "text/plain": [
       "0.0     6.917839e+00\n",
       "0.05    6.917843e+00\n",
       "0.1     6.917843e+00\n",
       "0.2     6.917843e+00\n",
       "0.3     6.917843e+00\n",
       "0.4     6.917843e+00\n",
       "0.5     6.917843e+00\n",
       "0.6     6.917843e+00\n",
       "0.7     6.917843e+00\n",
       "0.8     6.917843e+00\n",
       "0.9     6.917843e+00\n",
       "0.95    6.917843e+00\n",
       "1.0     6.917847e+00\n",
       "mean    6.917844e+00\n",
       "std     6.872427e-07\n",
       "iqr     0.000000e+00\n",
       "dtype: float64"
      ]
     },
     "execution_count": 22,
     "metadata": {},
     "output_type": "execute_result"
    }
   ],
   "source": [
    "pitci.helpers.check_interval_width(intervals_with_predictions=pred_intervals)"
   ]
  },
  {
   "cell_type": "markdown",
   "id": "a022b65f",
   "metadata": {},
   "source": [
    "## Varying intervals with `LeafNodeScaledConformalPredictor`\n",
    "### Calibrate conformal predictor"
   ]
  },
  {
   "cell_type": "code",
   "execution_count": 23,
   "id": "8ee1039f",
   "metadata": {},
   "outputs": [
    {
     "data": {
      "text/plain": [
       "pitci.xgboost.XGBoosterLeafNodeScaledConformalPredictor"
      ]
     },
     "execution_count": 23,
     "metadata": {},
     "output_type": "execute_result"
    }
   ],
   "source": [
    "confo_model2 = pitci.get_leaf_node_scaled_conformal_predictor(model)\n",
    "type(confo_model2)"
   ]
  },
  {
   "cell_type": "code",
   "execution_count": 24,
   "id": "8762baa9",
   "metadata": {
    "lines_to_next_cell": 2
   },
   "outputs": [],
   "source": [
    "confo_model2.calibrate(data=xgb_data_interval, alpha=0.8)"
   ]
  },
  {
   "cell_type": "code",
   "execution_count": 25,
   "id": "3de59201",
   "metadata": {},
   "outputs": [
    {
     "data": {
      "text/plain": [
       "349604.1568684578"
      ]
     },
     "execution_count": 25,
     "metadata": {},
     "output_type": "execute_result"
    }
   ],
   "source": [
    "confo_model2.baseline_interval"
   ]
  },
  {
   "cell_type": "markdown",
   "id": "864a4307",
   "metadata": {},
   "source": [
    "### Generate interval sample predictions"
   ]
  },
  {
   "cell_type": "code",
   "execution_count": 26,
   "id": "e67f0326",
   "metadata": {},
   "outputs": [],
   "source": [
    "pred_intervals = confo_model2.predict_with_interval(xgb_data_interval)"
   ]
  },
  {
   "cell_type": "code",
   "execution_count": 27,
   "id": "15fac753",
   "metadata": {},
   "outputs": [
    {
     "data": {
      "text/plain": [
       "True     0.797008\n",
       "False    0.202992\n",
       "Name: number_comments, dtype: float64"
      ]
     },
     "execution_count": 27,
     "metadata": {},
     "output_type": "execute_result"
    }
   ],
   "source": [
    "pitci.helpers.check_response_within_interval(\n",
    "    intervals_with_predictions=pred_intervals,\n",
    "    response=train.loc[train[\"sample\"] == \"interval\", response],\n",
    ")"
   ]
  },
  {
   "cell_type": "code",
   "execution_count": 28,
   "id": "741dfa72",
   "metadata": {},
   "outputs": [
    {
     "data": {
      "text/plain": [
       "0.0        2.605137\n",
       "0.05       2.605137\n",
       "0.1        2.605137\n",
       "0.2        2.605137\n",
       "0.3        2.687857\n",
       "0.4        2.792098\n",
       "0.5        3.065775\n",
       "0.6        3.702826\n",
       "0.7        4.405408\n",
       "0.8        5.927552\n",
       "0.9       13.830570\n",
       "0.95      31.193855\n",
       "1.0     5549.272331\n",
       "mean      17.495547\n",
       "std      122.076161\n",
       "iqr        2.101584\n",
       "dtype: float64"
      ]
     },
     "execution_count": 28,
     "metadata": {},
     "output_type": "execute_result"
    }
   ],
   "source": [
    "pitci.helpers.check_interval_width(intervals_with_predictions=pred_intervals)"
   ]
  },
  {
   "cell_type": "code",
   "execution_count": 29,
   "id": "484ccdeb",
   "metadata": {},
   "outputs": [],
   "source": [
    "pred_intervals = pitci.helpers.prepare_prediction_interval_df(\n",
    "    pred_intervals, train.loc[train[\"sample\"] == \"interval\", response]\n",
    ")"
   ]
  },
  {
   "cell_type": "code",
   "execution_count": 30,
   "id": "c63159ff",
   "metadata": {},
   "outputs": [],
   "source": [
    "pred_intervals = pitci.helpers.create_interval_buckets(\n",
    "    pred_intervals, q=5, duplicates=\"drop\"\n",
    ")"
   ]
  },
  {
   "cell_type": "code",
   "execution_count": 31,
   "id": "f59ca3af",
   "metadata": {},
   "outputs": [
    {
     "data": {
      "text/plain": [
       "interval_width_bucket\n",
       "(2.604, 2.792]        0.417753\n",
       "(2.792, 3.703]        1.219729\n",
       "(3.703, 5.928]        3.137185\n",
       "(5.928, 5549.272]    21.024222\n",
       "dtype: float64"
      ]
     },
     "execution_count": 31,
     "metadata": {},
     "output_type": "execute_result"
    }
   ],
   "source": [
    "pred_intervals.groupby(\"interval_width_bucket\").apply(\n",
    "    lambda x: mean_absolute_error(x[\"response\"], x[\"prediction\"])\n",
    ")"
   ]
  },
  {
   "cell_type": "markdown",
   "id": "bbdd2a83",
   "metadata": {},
   "source": [
    "### Generate test sample predictions"
   ]
  },
  {
   "cell_type": "code",
   "execution_count": 32,
   "id": "933b971d",
   "metadata": {},
   "outputs": [],
   "source": [
    "pred_test = confo_model2.predict_with_interval(xgb_data_test)"
   ]
  },
  {
   "cell_type": "code",
   "execution_count": 33,
   "id": "61d28923",
   "metadata": {},
   "outputs": [],
   "source": [
    "pred_test = pitci.helpers.prepare_prediction_interval_df(\n",
    "    pred_test, train.loc[train[\"sample\"] == \"test\", response]\n",
    ")"
   ]
  },
  {
   "cell_type": "code",
   "execution_count": 34,
   "id": "0e7b72f5",
   "metadata": {},
   "outputs": [],
   "source": [
    "pred_test = pitci.helpers.create_interval_buckets(pred_test, q=5, duplicates=\"drop\")"
   ]
  },
  {
   "cell_type": "code",
   "execution_count": 35,
   "id": "999b2cb2",
   "metadata": {},
   "outputs": [
    {
     "data": {
      "text/plain": [
       "interval_width_bucket\n",
       "(2.604, 2.728]        0.339336\n",
       "(2.728, 3.477]        1.048279\n",
       "(3.477, 5.006]        2.569561\n",
       "(5.006, 3699.515]    19.768743\n",
       "dtype: float64"
      ]
     },
     "execution_count": 35,
     "metadata": {},
     "output_type": "execute_result"
    }
   ],
   "source": [
    "pred_test.groupby(\"interval_width_bucket\").apply(\n",
    "    lambda x: mean_absolute_error(x[\"prediction\"], x[\"response\"])\n",
    ")"
   ]
  },
  {
   "cell_type": "code",
   "execution_count": null,
   "id": "1adb56cb",
   "metadata": {},
   "outputs": [],
   "source": []
  },
  {
   "cell_type": "code",
   "execution_count": null,
   "id": "6a1ca598",
   "metadata": {},
   "outputs": [],
   "source": []
  },
  {
   "cell_type": "code",
   "execution_count": null,
   "id": "e59e6c96",
   "metadata": {},
   "outputs": [],
   "source": []
  },
  {
   "cell_type": "code",
   "execution_count": null,
   "id": "6ba14728",
   "metadata": {},
   "outputs": [],
   "source": []
  }
 ],
 "metadata": {
  "kernelspec": {
   "display_name": "pitci",
   "language": "python",
   "name": "pitci"
  },
  "language_info": {
   "codemirror_mode": {
    "name": "ipython",
    "version": 3
   },
   "file_extension": ".py",
   "mimetype": "text/x-python",
   "name": "python",
   "nbconvert_exporter": "python",
   "pygments_lexer": "ipython3",
   "version": "3.7.9"
  }
 },
 "nbformat": 4,
 "nbformat_minor": 5
}
