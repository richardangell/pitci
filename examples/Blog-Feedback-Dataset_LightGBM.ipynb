{
 "cells": [
  {
   "cell_type": "markdown",
   "id": "c9459eb5",
   "metadata": {},
   "source": [
    "# Blog Feedback Dataset Prediction Intervals using `pitci`"
   ]
  },
  {
   "cell_type": "code",
   "execution_count": 1,
   "id": "8e40f2fe",
   "metadata": {},
   "outputs": [],
   "source": [
    "import pandas as pd\n",
    "import numpy as np\n",
    "import lightgbm as lgb\n",
    "import requests\n",
    "import zipfile\n",
    "from pathlib import Path\n",
    "from sklearn.metrics import mean_absolute_error, r2_score, mean_squared_error"
   ]
  },
  {
   "cell_type": "code",
   "execution_count": 2,
   "id": "08a4e704",
   "metadata": {},
   "outputs": [
    {
     "data": {
      "text/plain": [
       "'0.1.2.dev1'"
      ]
     },
     "execution_count": 2,
     "metadata": {},
     "output_type": "execute_result"
    }
   ],
   "source": [
    "import pitci\n",
    "pitci.__version__"
   ]
  },
  {
   "cell_type": "markdown",
   "id": "4f1d3460",
   "metadata": {},
   "source": [
    "# Build example xgboost model"
   ]
  },
  {
   "cell_type": "markdown",
   "id": "b2d30d25",
   "metadata": {},
   "source": [
    "## Download data"
   ]
  },
  {
   "cell_type": "code",
   "execution_count": 3,
   "id": "de8ab7e9",
   "metadata": {},
   "outputs": [],
   "source": [
    "zip_address = (\n",
    "    \"https://archive.ics.uci.edu/ml/machine-learning-databases/00304/BlogFeedback.zip\"\n",
    ")"
   ]
  },
  {
   "cell_type": "code",
   "execution_count": 4,
   "id": "71463369",
   "metadata": {},
   "outputs": [],
   "source": [
    "dataloaded_data_location = \"data/BlogFeedback.zip\""
   ]
  },
  {
   "cell_type": "code",
   "execution_count": 5,
   "id": "d3c9806d",
   "metadata": {},
   "outputs": [],
   "source": [
    "if not Path(dataloaded_data_location).is_file():\n",
    "\n",
    "    r = requests.get(zip_address)\n",
    "\n",
    "    with open(dataloaded_data_location, \"wb\") as f:\n",
    "\n",
    "        f.write(r.content)\n",
    "\n",
    "    with zipfile.ZipFile(dataloaded_data_location, \"r\") as zip_ref:\n",
    "\n",
    "        zip_ref.extractall(\"data/blogfeedback\")"
   ]
  },
  {
   "cell_type": "markdown",
   "id": "826c76fb",
   "metadata": {},
   "source": [
    "## Import data"
   ]
  },
  {
   "cell_type": "code",
   "execution_count": 6,
   "id": "97f5cf12",
   "metadata": {},
   "outputs": [],
   "source": [
    "train = pd.read_csv(\"data/blogfeedback/blogData_train.csv\", header=None)\n",
    "train.rename(columns={280: \"number_comments\"}, inplace=True)"
   ]
  },
  {
   "cell_type": "code",
   "execution_count": 7,
   "id": "aa7b9868",
   "metadata": {},
   "outputs": [],
   "source": [
    "test = pd.concat(\n",
    "    [pd.read_csv(x, header=None) for x in Path(\"data/blogfeedback/\").glob(\"*test*\")],\n",
    "    axis=0,\n",
    ")\n",
    "test.rename(columns={280: \"number_comments\"}, inplace=True)"
   ]
  },
  {
   "cell_type": "markdown",
   "id": "ad7c2dc4",
   "metadata": {},
   "source": [
    "## Add sample column\n",
    "Create a sample column with 3 values that will be used in the following way; <br>\n",
    "1: (65%) train <br>\n",
    "2: (17.5%) validate (early stopping) <br>\n",
    "3: (17.5%) interval <br>\n",
    "The test sample is provided in a different dataframe."
   ]
  },
  {
   "cell_type": "code",
   "execution_count": 8,
   "id": "b9baf99b",
   "metadata": {},
   "outputs": [],
   "source": [
    "np.random.seed(1)\n",
    "random_col = np.random.random(train.shape[0])\n",
    "train[\"sample\"] = \"train\"\n",
    "train.loc[random_col > 0.65, \"sample\"] = \"validate\"\n",
    "train.loc[random_col > 0.825, \"sample\"] = \"interval\""
   ]
  },
  {
   "cell_type": "markdown",
   "id": "84aac384",
   "metadata": {},
   "source": [
    "## Append train and test datasets"
   ]
  },
  {
   "cell_type": "code",
   "execution_count": 9,
   "id": "5b6c0ebc",
   "metadata": {},
   "outputs": [],
   "source": [
    "test[\"sample\"] = \"test\""
   ]
  },
  {
   "cell_type": "code",
   "execution_count": 10,
   "id": "a55314c2",
   "metadata": {},
   "outputs": [],
   "source": [
    "train = train.append(test)"
   ]
  },
  {
   "cell_type": "markdown",
   "id": "5367e073",
   "metadata": {},
   "source": [
    "## Create xgboost DMatrices"
   ]
  },
  {
   "cell_type": "code",
   "execution_count": 11,
   "id": "6bb148ed",
   "metadata": {},
   "outputs": [],
   "source": [
    "response = \"number_comments\""
   ]
  },
  {
   "cell_type": "code",
   "execution_count": 12,
   "id": "970e2b8e",
   "metadata": {},
   "outputs": [],
   "source": [
    "lgb_data_train = lgb.Dataset(\n",
    "    data=train.loc[train[\"sample\"] == \"train\"].drop(columns=[response, \"sample\"]),\n",
    "    label=train.loc[train[\"sample\"] == \"train\", response],\n",
    ")"
   ]
  },
  {
   "cell_type": "code",
   "execution_count": 13,
   "id": "8e3fa8ef",
   "metadata": {},
   "outputs": [],
   "source": [
    "lgb_data_valid = lgb.Dataset(\n",
    "    data=train.loc[train[\"sample\"] == \"validate\"].drop(columns=[response, \"sample\"]),\n",
    "    label=train.loc[train[\"sample\"] == \"validate\", response],\n",
    ")"
   ]
  },
  {
   "cell_type": "code",
   "execution_count": 14,
   "id": "9e706ad2",
   "metadata": {},
   "outputs": [],
   "source": [
    "lgb_data_interval = lgb.Dataset(\n",
    "    data=train.loc[train[\"sample\"] == \"interval\"].drop(columns=[response, \"sample\"]),\n",
    "    label=train.loc[train[\"sample\"] == \"interval\", response],\n",
    ")"
   ]
  },
  {
   "cell_type": "code",
   "execution_count": 15,
   "id": "42cffdcc",
   "metadata": {},
   "outputs": [],
   "source": [
    "lgb_data_test = lgb.Dataset(\n",
    "    data=train.loc[train[\"sample\"] == \"test\"].drop(columns=[response, \"sample\"]),\n",
    "    label=train.loc[train[\"sample\"] == \"test\", response],\n",
    ")"
   ]
  },
  {
   "cell_type": "markdown",
   "id": "c6e3bfee",
   "metadata": {},
   "source": [
    "## Build model"
   ]
  },
  {
   "cell_type": "code",
   "execution_count": 16,
   "id": "78ef96f3",
   "metadata": {},
   "outputs": [
    {
     "name": "stdout",
     "output_type": "stream",
     "text": [
      "[LightGBM] [Warning] Auto-choosing row-wise multi-threading, the overhead of testing was 0.011281 seconds.\n",
      "You can set `force_row_wise=true` to remove the overhead.\n",
      "And if memory is not enough, you can set `force_col_wise=true`.\n",
      "[LightGBM] [Info] Total Bins 8293\n",
      "[LightGBM] [Info] Number of data points in the train set: 34044, number of used features: 219\n",
      "[LightGBM] [Info] Start training from score 6.681207\n",
      "[1]\tvalidate's l2: 1266.53\n",
      "Training until validation scores don't improve for 5 rounds\n",
      "[2]\tvalidate's l2: 1202.16\n",
      "[3]\tvalidate's l2: 1147\n",
      "[4]\tvalidate's l2: 1096.99\n",
      "[5]\tvalidate's l2: 1053.63\n",
      "[6]\tvalidate's l2: 1009.72\n",
      "[7]\tvalidate's l2: 974.423\n",
      "[8]\tvalidate's l2: 941.595\n",
      "[9]\tvalidate's l2: 912.571\n",
      "[10]\tvalidate's l2: 886.644\n",
      "[11]\tvalidate's l2: 862.804\n",
      "[12]\tvalidate's l2: 842.814\n",
      "[13]\tvalidate's l2: 821.709\n",
      "[14]\tvalidate's l2: 804.55\n",
      "[15]\tvalidate's l2: 787.156\n",
      "[16]\tvalidate's l2: 770.827\n",
      "[17]\tvalidate's l2: 759.053\n",
      "[18]\tvalidate's l2: 747.499\n",
      "[19]\tvalidate's l2: 738.739\n",
      "[20]\tvalidate's l2: 730.007\n",
      "[21]\tvalidate's l2: 721.24\n",
      "[22]\tvalidate's l2: 713.376\n",
      "[23]\tvalidate's l2: 705.618\n",
      "[24]\tvalidate's l2: 699.606\n",
      "[25]\tvalidate's l2: 692.354\n",
      "[26]\tvalidate's l2: 687.802\n",
      "[27]\tvalidate's l2: 682.335\n",
      "[28]\tvalidate's l2: 676.232\n",
      "[29]\tvalidate's l2: 672.043\n",
      "[30]\tvalidate's l2: 666.681\n",
      "[31]\tvalidate's l2: 662.188\n",
      "[32]\tvalidate's l2: 655.608\n",
      "[33]\tvalidate's l2: 653.988\n",
      "[34]\tvalidate's l2: 650.018\n",
      "[35]\tvalidate's l2: 649.248\n",
      "[36]\tvalidate's l2: 646.911\n",
      "[37]\tvalidate's l2: 642.296\n",
      "[38]\tvalidate's l2: 640.161\n",
      "[39]\tvalidate's l2: 636.985\n",
      "[40]\tvalidate's l2: 635.253\n",
      "[41]\tvalidate's l2: 633.109\n",
      "[42]\tvalidate's l2: 632.162\n",
      "[43]\tvalidate's l2: 631.02\n",
      "[44]\tvalidate's l2: 630.681\n",
      "[45]\tvalidate's l2: 629.301\n",
      "[46]\tvalidate's l2: 629.405\n",
      "[47]\tvalidate's l2: 628.818\n",
      "[48]\tvalidate's l2: 628.4\n",
      "[49]\tvalidate's l2: 629.333\n",
      "[50]\tvalidate's l2: 628.976\n",
      "[51]\tvalidate's l2: 628.848\n",
      "[52]\tvalidate's l2: 629.366\n",
      "[53]\tvalidate's l2: 629.155\n",
      "Early stopping, best iteration is:\n",
      "[48]\tvalidate's l2: 628.4\n"
     ]
    }
   ],
   "source": [
    "model = lgb.train(\n",
    "    params={'num_leaves': 10, \"learning_rate\": 0.05, 'metric': \"mean_squared_error\"},\n",
    "    train_set=lgb_data_train,\n",
    "    num_boost_round=500,\n",
    "    valid_sets=[lgb_data_valid],\n",
    "    valid_names=['validate'],\n",
    "    early_stopping_rounds=5,\n",
    ")"
   ]
  },
  {
   "cell_type": "markdown",
   "id": "3d54823d",
   "metadata": {},
   "source": [
    "# Generate prediction intervals"
   ]
  },
  {
   "cell_type": "markdown",
   "id": "a022b65f",
   "metadata": {},
   "source": [
    "## ScaledAbsoluteErrorConformalPredictor\n",
    "### Calibrate conformal predictor"
   ]
  },
  {
   "cell_type": "code",
   "execution_count": 17,
   "id": "8ee1039f",
   "metadata": {},
   "outputs": [],
   "source": [
    "confo_model2 = pitci.get_leaf_node_scaled_conformal_predictor(model)"
   ]
  },
  {
   "cell_type": "code",
   "execution_count": 18,
   "id": "8762baa9",
   "metadata": {
    "lines_to_next_cell": 2
   },
   "outputs": [],
   "source": [
    "confo_model2.calibrate(\n",
    "    data=train.loc[train[\"sample\"] == \"interval\"].drop(columns=[response, \"sample\"]), \n",
    "    alpha=0.8,\n",
    "    response =train.loc[train[\"sample\"] == \"interval\", response] \n",
    ")"
   ]
  },
  {
   "cell_type": "code",
   "execution_count": 19,
   "id": "3de59201",
   "metadata": {},
   "outputs": [
    {
     "data": {
      "text/plain": [
       "3559767.661347609"
      ]
     },
     "execution_count": 19,
     "metadata": {},
     "output_type": "execute_result"
    }
   ],
   "source": [
    "confo_model2.baseline_interval"
   ]
  },
  {
   "cell_type": "markdown",
   "id": "864a4307",
   "metadata": {},
   "source": [
    "### Interval sample predictions"
   ]
  },
  {
   "cell_type": "code",
   "execution_count": 20,
   "id": "e67f0326",
   "metadata": {},
   "outputs": [],
   "source": [
    "pred_intervals = confo_model2.predict_with_interval(train.loc[train[\"sample\"] == \"interval\"].drop(columns=[response, \"sample\"]))"
   ]
  },
  {
   "cell_type": "code",
   "execution_count": 21,
   "id": "15fac753",
   "metadata": {},
   "outputs": [
    {
     "data": {
      "text/plain": [
       "True     0.801376\n",
       "False    0.198624\n",
       "Name: number_comments, dtype: float64"
      ]
     },
     "execution_count": 21,
     "metadata": {},
     "output_type": "execute_result"
    }
   ],
   "source": [
    "pitci.helpers.check_response_within_interval(\n",
    "    intervals_with_predictions=pred_intervals,\n",
    "    response=train.loc[train[\"sample\"] == \"interval\", response],\n",
    ")"
   ]
  },
  {
   "cell_type": "code",
   "execution_count": 22,
   "id": "6769478f",
   "metadata": {},
   "outputs": [
    {
     "data": {
      "text/plain": [
       "0.0        5.130368\n",
       "0.05       5.130368\n",
       "0.1        5.130368\n",
       "0.2        5.130368\n",
       "0.3        5.130368\n",
       "0.4        5.130368\n",
       "0.5        5.304721\n",
       "0.6        5.475715\n",
       "0.7        5.701914\n",
       "0.8        6.449043\n",
       "0.9        9.193793\n",
       "0.95      14.948104\n",
       "1.0     3320.678789\n",
       "mean      13.460537\n",
       "std      104.895087\n",
       "iqr        0.813048\n",
       "dtype: float64"
      ]
     },
     "execution_count": 22,
     "metadata": {},
     "output_type": "execute_result"
    }
   ],
   "source": [
    "pitci.helpers.check_interval_width(intervals_with_predictions=pred_intervals)"
   ]
  },
  {
   "cell_type": "code",
   "execution_count": 23,
   "id": "484ccdeb",
   "metadata": {},
   "outputs": [],
   "source": [
    "pred_intervals = pitci.helpers.prepare_prediction_interval_df(\n",
    "    pred_intervals, train.loc[train[\"sample\"] == \"interval\", response]\n",
    ")"
   ]
  },
  {
   "cell_type": "code",
   "execution_count": 24,
   "id": "c63159ff",
   "metadata": {},
   "outputs": [],
   "source": [
    "pred_intervals = pitci.helpers.create_interval_buckets(\n",
    "    pred_intervals, q=5, duplicates=\"drop\"\n",
    ")"
   ]
  },
  {
   "cell_type": "code",
   "execution_count": 25,
   "id": "f59ca3af",
   "metadata": {},
   "outputs": [
    {
     "data": {
      "text/plain": [
       "interval_width_bucket\n",
       "(5.129, 5.476]        1.688534\n",
       "(5.476, 6.449]        3.529742\n",
       "(6.449, 3320.679]    21.098750\n",
       "dtype: float64"
      ]
     },
     "execution_count": 25,
     "metadata": {},
     "output_type": "execute_result"
    }
   ],
   "source": [
    "pred_intervals.groupby(\"interval_width_bucket\").apply(\n",
    "    lambda x: mean_absolute_error(x[\"response\"], x[\"prediction\"])\n",
    ")"
   ]
  },
  {
   "cell_type": "markdown",
   "id": "bbdd2a83",
   "metadata": {},
   "source": [
    "### Test sample predictions"
   ]
  },
  {
   "cell_type": "code",
   "execution_count": 26,
   "id": "933b971d",
   "metadata": {},
   "outputs": [],
   "source": [
    "pred_test = confo_model2.predict_with_interval(train.loc[train[\"sample\"] == \"test\"].drop(columns=[response, \"sample\"]))"
   ]
  },
  {
   "cell_type": "code",
   "execution_count": 27,
   "id": "1adb56cb",
   "metadata": {},
   "outputs": [
    {
     "data": {
      "text/plain": [
       "0.0        5.130368\n",
       "0.05       5.130368\n",
       "0.1        5.130368\n",
       "0.2        5.130368\n",
       "0.3        5.130368\n",
       "0.4        5.130368\n",
       "0.5        5.130368\n",
       "0.6        5.470573\n",
       "0.7        5.674786\n",
       "0.8        6.095007\n",
       "0.9        7.854436\n",
       "0.95      11.784660\n",
       "1.0     3399.969113\n",
       "mean       9.280083\n",
       "std       66.067575\n",
       "iqr        0.571546\n",
       "dtype: float64"
      ]
     },
     "execution_count": 27,
     "metadata": {},
     "output_type": "execute_result"
    }
   ],
   "source": [
    "pitci.helpers.check_interval_width(intervals_with_predictions=pred_test)"
   ]
  },
  {
   "cell_type": "code",
   "execution_count": 28,
   "id": "61d28923",
   "metadata": {},
   "outputs": [],
   "source": [
    "pred_test = pitci.helpers.prepare_prediction_interval_df(\n",
    "    pred_test, train.loc[train[\"sample\"] == \"test\", response]\n",
    ")"
   ]
  },
  {
   "cell_type": "code",
   "execution_count": 29,
   "id": "0e7b72f5",
   "metadata": {},
   "outputs": [],
   "source": [
    "pred_test = pitci.helpers.create_interval_buckets(pred_test, q=5, duplicates=\"drop\")"
   ]
  },
  {
   "cell_type": "code",
   "execution_count": 30,
   "id": "999b2cb2",
   "metadata": {},
   "outputs": [
    {
     "data": {
      "text/plain": [
       "interval_width_bucket\n",
       "(5.129, 5.471]        1.644240\n",
       "(5.471, 6.095]        3.273206\n",
       "(6.095, 3399.969]    19.316058\n",
       "dtype: float64"
      ]
     },
     "execution_count": 30,
     "metadata": {},
     "output_type": "execute_result"
    }
   ],
   "source": [
    "pred_test.groupby(\"interval_width_bucket\").apply(\n",
    "    lambda x: mean_absolute_error(x[\"prediction\"], x[\"response\"])\n",
    ")"
   ]
  },
  {
   "cell_type": "code",
   "execution_count": null,
   "id": "6a1ca598",
   "metadata": {},
   "outputs": [],
   "source": []
  },
  {
   "cell_type": "code",
   "execution_count": null,
   "id": "d06ab7e7",
   "metadata": {},
   "outputs": [],
   "source": []
  },
  {
   "cell_type": "code",
   "execution_count": null,
   "id": "6ba14728",
   "metadata": {},
   "outputs": [],
   "source": []
  }
 ],
 "metadata": {
  "kernelspec": {
   "display_name": "pitci",
   "language": "python",
   "name": "pitci"
  },
  "language_info": {
   "codemirror_mode": {
    "name": "ipython",
    "version": 3
   },
   "file_extension": ".py",
   "mimetype": "text/x-python",
   "name": "python",
   "nbconvert_exporter": "python",
   "pygments_lexer": "ipython3",
   "version": "3.7.9"
  }
 },
 "nbformat": 4,
 "nbformat_minor": 5
}
