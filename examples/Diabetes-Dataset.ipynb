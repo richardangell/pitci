{
 "cells": [
  {
   "cell_type": "markdown",
   "id": "technical-package",
   "metadata": {},
   "source": [
    "# Prediction Intervals for Trees using Conformal Intervals - pitci\n",
    "This notebook shows some simple usage of the [pitci package](https://github.com/richardangell/pitci). This is a new package that allows predictions intervals to be generated for tree based models using conformal intervals. <br>\n",
    "\n",
    "The basic idea of (inductive) conformal intervals is to use a calibration set to learn given quantile of the error distribution, on that set. Here we are simply using the absolute value of the difference between the response and predictions. This quantile is used as the basis for predictions intervals. <br>\n",
    "\n",
    "However it is not very useful in it's default state - which gives the same interval for every new prediction. Instead we want to scale this interval according to the data we want to make predictions on. Intuitively we want to increase the interval where we have less confidence about the data and decrease it where we have more confidence. <br>\n",
    "\n",
    "In order to produce a value that captures the confidence or familiarity we have we some data, compared to our calibration set, `pitci` uses 1 / the number of times each leaf node used to generate a prediction was visited across all rows of the calibration set and then summed across trees. The reason for the reciproal is to invert the measure so a smaller value is better hence reducing the size of intervals for records we are more confident in. <br>"
   ]
  },
  {
   "cell_type": "markdown",
   "id": "natural-gothic",
   "metadata": {},
   "source": [
    "# Diabetes Dataset Regression\n",
    "Below is an example of using the `pitic` package to generate prediction intervals with [xgboost](https://xgboost.readthedocs.io/en/latest/) on the [diabetes dataset](https://scikit-learn.org/stable/datasets/toy_dataset.html#diabetes-dataset), available in [scikit-learn](https://scikit-learn.org/stable/index.html)."
   ]
  },
  {
   "cell_type": "code",
   "execution_count": 1,
   "id": "governing-mattress",
   "metadata": {},
   "outputs": [],
   "source": [
    "import pandas as pd\n",
    "import numpy as np\n",
    "import xgboost as xgb\n",
    "import matplotlib.pyplot as plt\n",
    "from sklearn.datasets import load_diabetes"
   ]
  },
  {
   "cell_type": "code",
   "execution_count": 2,
   "id": "instant-thomson",
   "metadata": {},
   "outputs": [
    {
     "data": {
      "text/plain": [
       "'0.2.0'"
      ]
     },
     "execution_count": 2,
     "metadata": {},
     "output_type": "execute_result"
    }
   ],
   "source": [
    "import pitci\n",
    "pitci.__version__"
   ]
  },
  {
   "cell_type": "markdown",
   "id": "ecological-latino",
   "metadata": {},
   "source": [
    "## Build example xgboost model\n",
    "The `pitci` package works with an existing xgboost model, first we'll build a model on the diabetes dataset."
   ]
  },
  {
   "cell_type": "markdown",
   "id": "thousand-blade",
   "metadata": {},
   "source": [
    "### Load data from scikit-learn"
   ]
  },
  {
   "cell_type": "code",
   "execution_count": 3,
   "id": "sealed-little",
   "metadata": {},
   "outputs": [],
   "source": [
    "diabetes = load_diabetes()"
   ]
  },
  {
   "cell_type": "markdown",
   "id": "limited-canada",
   "metadata": {},
   "source": [
    "### Create xgboost matrices\n",
    "We will split the diabetes dataset into 4 samples that will be used in the following ways; <br>\n",
    "1. `train` used to fit the model <br>\n",
    "2. `validate` used for early stopping when training, to select the best number of trees to use in the model <br>\n",
    "3. `interval` used for fitting or calibrating the conformal interval information that will be used when generating prediction intervals <br>\n",
    "4. `test` used for evaluating model and interval performance <br>"
   ]
  },
  {
   "cell_type": "code",
   "execution_count": 4,
   "id": "humanitarian-ranch",
   "metadata": {},
   "outputs": [],
   "source": [
    "np.random.seed(1)\n",
    "random_col = np.random.random(diabetes['data'].shape[0])\n",
    "sample_col = np.ones(random_col.shape)\n",
    "sample_col[random_col > 0.55] = 2\n",
    "sample_col[random_col > 0.7] = 3\n",
    "sample_col[random_col > 0.85] = 4"
   ]
  },
  {
   "cell_type": "code",
   "execution_count": 5,
   "id": "supposed-marriage",
   "metadata": {},
   "outputs": [],
   "source": [
    "xgb_data_train = xgb.DMatrix(\n",
    "    data = diabetes['data'][sample_col == 1], \n",
    "    label = diabetes['target'][sample_col == 1], \n",
    "    feature_names = diabetes['feature_names']\n",
    ")"
   ]
  },
  {
   "cell_type": "code",
   "execution_count": 6,
   "id": "worse-discount",
   "metadata": {},
   "outputs": [],
   "source": [
    "xgb_data_valid = xgb.DMatrix(\n",
    "    data = diabetes['data'][sample_col == 2], \n",
    "    label = diabetes['target'][sample_col == 2], \n",
    "    feature_names = diabetes['feature_names']\n",
    ")"
   ]
  },
  {
   "cell_type": "code",
   "execution_count": 7,
   "id": "native-arcade",
   "metadata": {},
   "outputs": [],
   "source": [
    "xgb_data_interval = xgb.DMatrix(\n",
    "    data = diabetes['data'][sample_col == 3], \n",
    "    label = diabetes['target'][sample_col == 3], \n",
    "    feature_names = diabetes['feature_names']\n",
    ")"
   ]
  },
  {
   "cell_type": "code",
   "execution_count": 8,
   "id": "handed-personal",
   "metadata": {},
   "outputs": [],
   "source": [
    "xgb_data_test = xgb.DMatrix(\n",
    "    data = diabetes['data'][sample_col == 4], \n",
    "    label = diabetes['target'][sample_col == 4], \n",
    "    feature_names = diabetes['feature_names']\n",
    ")"
   ]
  },
  {
   "cell_type": "markdown",
   "id": "prospective-sleeve",
   "metadata": {},
   "source": [
    "### Build model\n",
    "Now we build a model to predict diabetes progression."
   ]
  },
  {
   "cell_type": "code",
   "execution_count": 9,
   "id": "hired-payment",
   "metadata": {},
   "outputs": [
    {
     "name": "stdout",
     "output_type": "stream",
     "text": [
      "[0]\tvalid-rmse:164.04767\n",
      "[5]\tvalid-rmse:115.91595\n",
      "[10]\tvalid-rmse:89.71492\n",
      "[15]\tvalid-rmse:73.92917\n",
      "[20]\tvalid-rmse:65.57365\n",
      "[25]\tvalid-rmse:61.30840\n",
      "[30]\tvalid-rmse:59.95889\n",
      "[35]\tvalid-rmse:58.55107\n",
      "[40]\tvalid-rmse:57.91678\n",
      "[45]\tvalid-rmse:57.49678\n",
      "[50]\tvalid-rmse:57.24346\n",
      "[55]\tvalid-rmse:56.93205\n",
      "[60]\tvalid-rmse:56.86116\n",
      "[65]\tvalid-rmse:57.05266\n",
      "[66]\tvalid-rmse:57.01492\n"
     ]
    }
   ],
   "source": [
    "model = xgb.train(\n",
    "    params = {\n",
    "        'max_depth': 5,\n",
    "        'eta': 0.09\n",
    "    }, \n",
    "    dtrain = xgb_data_train, \n",
    "    num_boost_round = 500,\n",
    "    evals = [(xgb_data_valid, 'valid')],\n",
    "    early_stopping_rounds = 5,\n",
    "    verbose_eval = 5\n",
    ")"
   ]
  },
  {
   "cell_type": "code",
   "execution_count": 10,
   "id": "cordless-edmonton",
   "metadata": {},
   "outputs": [
    {
     "data": {
      "text/plain": [
       "61"
      ]
     },
     "execution_count": 10,
     "metadata": {},
     "output_type": "execute_result"
    }
   ],
   "source": [
    "model.best_iteration"
   ]
  },
  {
   "cell_type": "markdown",
   "id": "rotary-finnish",
   "metadata": {},
   "source": [
    "## Generate prediction intervals\n",
    "Now we'll use the a subclass of `LeafNodeScaledConformalPredictor` in order to generate predictions intervals about the predictions from the underlying xgboost model using conformal intervals."
   ]
  },
  {
   "cell_type": "markdown",
   "id": "handled-helping",
   "metadata": {},
   "source": [
    "### Initialise LeafNodeScaledConformalPredictor\n",
    "Note, we use the `get_leaf_node_scaled_conformal_predictor` function to return to the right `LeafNodeScaledConformalPredictor` subclass given the type of `model` passed. <br>\n",
    "In this case we are passing an `xgb.Booster`  model so the returned object is `XGBoosterLeafNodeScaledConformalPredictor`. It is possible to initisalise objects of this class directly through `pitci.xgboost`."
   ]
  },
  {
   "cell_type": "code",
   "execution_count": 11,
   "id": "typical-density",
   "metadata": {},
   "outputs": [
    {
     "data": {
      "text/plain": [
       "pitci.xgboost.XGBoosterLeafNodeScaledConformalPredictor"
      ]
     },
     "execution_count": 11,
     "metadata": {},
     "output_type": "execute_result"
    }
   ],
   "source": [
    "confo_model = pitci.get_leaf_node_scaled_conformal_predictor(model)\n",
    "type(confo_model)"
   ]
  },
  {
   "cell_type": "markdown",
   "id": "delayed-distribution",
   "metadata": {},
   "source": [
    "### Calibrate LeafNodeScaledConformalPredictor\n",
    "Next we must calilbrate the `LeafNodeScaledConformalPredictor` on a baseline dataset. <br>\n",
    "To do this we run the `calibrate` method. This takes 3 arguments;\n",
    "- `data` the dataset to calibrate the intervals on\n",
    "- `alpha` the confidence level of the intervals to generate\n",
    "- `response` the response corresponding to the `data`, this can be `None` in which case the label is attempted to be taken from `data`\n",
    "\n",
    "Note, it is also possible to pass `train_data` to the `calibrate` method. This is to allow `leaf_node_counts` to be calibrated on the training data i.e. the same data that the model was built on. The `baseline_interval` is still calibrated on the `data` argument - which should be a different sample to the training data, otherwise the interval will be smaller than it otherwise would be on unseen data. The reason for allowing `leaf_node_counts` to be set based off the training data is that we're trying to recreate stats that the modelling package may have not recorded rather than learning some new information."
   ]
  },
  {
   "cell_type": "code",
   "execution_count": 13,
   "id": "dramatic-passage",
   "metadata": {},
   "outputs": [],
   "source": [
    "confo_model.calibrate(data = xgb_data_interval, alpha = 0.8, train_data = xgb_data_train)"
   ]
  },
  {
   "cell_type": "markdown",
   "id": "departmental-product",
   "metadata": {},
   "source": [
    "`calibrate` must be run before we try to generate prediction intervals with `LeafNodeScaledConformalPredictor` as it sets attributes that will be used in producing the intervals;\n",
    "- `baseline_interval` is the default half interval that will be used as the basis for all intervals that are generated at the confidence level specified by `alpha` \n",
    "- `leaf_node_counts` contains the counts of the number of times each leaf node was visited, by each tree, when making predictions on the calibration data. This is a `list` of length `n` where `n` is the number of trees in the model and each value is a dict indicating the number of times that each leaf node was visited when making predictions for the calibration data. For example, `[{3: 2, 6:9, 8: 0}, 1: {1: 0, 2: 11}]` would indicate that in the first tree the leaf node with index 3 was visited twice, leaf node 6 was visited 9 times and leaf node 8 was not visited at all and for the second tree leaf node index 1 was not visited and leaf node index 2 was visited 11 times"
   ]
  },
  {
   "cell_type": "code",
   "execution_count": 14,
   "id": "lucky-domain",
   "metadata": {},
   "outputs": [
    {
     "data": {
      "text/plain": [
       "62"
      ]
     },
     "execution_count": 14,
     "metadata": {},
     "output_type": "execute_result"
    }
   ],
   "source": [
    "len(confo_model.leaf_node_counts)"
   ]
  },
  {
   "cell_type": "code",
   "execution_count": 15,
   "id": "inner-stack",
   "metadata": {},
   "outputs": [
    {
     "data": {
      "text/plain": [
       "{26.0: 63,\n",
       " 14.0: 44,\n",
       " 20.0: 35,\n",
       " 18.0: 27,\n",
       " 19.0: 20,\n",
       " 24.0: 14,\n",
       " 21.0: 13,\n",
       " 22.0: 5,\n",
       " 25.0: 5,\n",
       " 15.0: 1,\n",
       " 10.0: 1,\n",
       " 17.0: 1,\n",
       " 13.0: 1,\n",
       " 23.0: 1}"
      ]
     },
     "execution_count": 15,
     "metadata": {},
     "output_type": "execute_result"
    }
   ],
   "source": [
    "confo_model.leaf_node_counts[0]"
   ]
  },
  {
   "cell_type": "code",
   "execution_count": 16,
   "id": "bottom-general",
   "metadata": {},
   "outputs": [
    {
     "data": {
      "text/plain": [
       "{32.0: 91,\n",
       " 44.0: 37,\n",
       " 31.0: 17,\n",
       " 40.0: 16,\n",
       " 46.0: 15,\n",
       " 38.0: 8,\n",
       " 34.0: 5,\n",
       " 43.0: 5,\n",
       " 16.0: 5,\n",
       " 39.0: 4,\n",
       " 15.0: 3,\n",
       " 24.0: 3,\n",
       " 37.0: 3,\n",
       " 19.0: 3,\n",
       " 35.0: 3,\n",
       " 45.0: 2,\n",
       " 11.0: 2,\n",
       " 29.0: 2,\n",
       " 33.0: 2,\n",
       " 42.0: 1,\n",
       " 36.0: 1,\n",
       " 20.0: 1,\n",
       " 41.0: 1,\n",
       " 30.0: 1}"
      ]
     },
     "execution_count": 16,
     "metadata": {},
     "output_type": "execute_result"
    }
   ],
   "source": [
    "confo_model.leaf_node_counts[20]"
   ]
  },
  {
   "cell_type": "code",
   "execution_count": 17,
   "id": "colored-patrick",
   "metadata": {},
   "outputs": [
    {
     "data": {
      "text/plain": [
       "{16.0: 183, 15.0: 31, 14.0: 6, 13.0: 3, 4.0: 3, 8.0: 2, 7.0: 1, 9.0: 1, 5.0: 1}"
      ]
     },
     "execution_count": 17,
     "metadata": {},
     "output_type": "execute_result"
    }
   ],
   "source": [
    "confo_model.leaf_node_counts[61]"
   ]
  },
  {
   "cell_type": "markdown",
   "id": "charitable-excellence",
   "metadata": {},
   "source": [
    "### Generate predictions with intervals\n",
    "Now that `calibrate` has been run we can generate predictions with intervals. <br>\n",
    "The output from `predict_with_interval` is an `[n, 3]` array where `n` is the number of rows passed in `data`. The first column gives the lower interval, the second columns gives the predictions and the third columns gives the upper interval."
   ]
  },
  {
   "cell_type": "code",
   "execution_count": 18,
   "id": "frank-bedroom",
   "metadata": {},
   "outputs": [],
   "source": [
    "predictions_with_interval = confo_model.predict_with_interval(data = xgb_data_test)"
   ]
  },
  {
   "cell_type": "code",
   "execution_count": 19,
   "id": "desirable-sector",
   "metadata": {},
   "outputs": [
    {
     "data": {
      "text/plain": [
       "(69, 3)"
      ]
     },
     "execution_count": 19,
     "metadata": {},
     "output_type": "execute_result"
    }
   ],
   "source": [
    "predictions_with_interval.shape"
   ]
  },
  {
   "cell_type": "code",
   "execution_count": 20,
   "id": "9abae82a",
   "metadata": {},
   "outputs": [
    {
     "data": {
      "text/plain": [
       "array([[103.14330722, 167.55596924, 231.96863126],\n",
       "       [ 21.93657277,  90.68370056, 159.43082835],\n",
       "       [110.98491906, 173.48414612, 235.98337318],\n",
       "       [ 72.57656484, 138.14193726, 203.70730967],\n",
       "       [ 86.37989525, 192.68173218, 298.9835691 ],\n",
       "       [ 37.28008213, 145.53141785, 253.78275356],\n",
       "       [ 71.03028659, 149.73301697, 228.43574734],\n",
       "       [ 67.92952911, 128.66041565, 189.39130219],\n",
       "       [ 27.41178796,  80.07532501, 132.73886207],\n",
       "       [ -6.66834494,  80.85116577, 168.37067648]])"
      ]
     },
     "execution_count": 20,
     "metadata": {},
     "output_type": "execute_result"
    }
   ],
   "source": [
    "predictions_with_interval[:10,:]"
   ]
  },
  {
   "cell_type": "markdown",
   "id": "forty-performer",
   "metadata": {},
   "source": [
    "Notice that each interval has a different width. We use the default half interval stored in the `baseline_interval` attribute and scale it with the 1 / number of times each leaf node, used in generating a prediction for that row, was visited across the whole of the calibration dataset (from `calibrate`). <br>\n",
    "Also note that we have generated prediction intervals on a different dataset to what the original model was trained on and the dataset that was used to calibrate the conformal intervals. <br>\n",
    "We can check the number of times the response falls within the interval and the distribution of the intervals."
   ]
  },
  {
   "cell_type": "code",
   "execution_count": 21,
   "id": "controlling-disorder",
   "metadata": {},
   "outputs": [
    {
     "data": {
      "text/plain": [
       "True     0.73913\n",
       "False    0.26087\n",
       "dtype: float64"
      ]
     },
     "execution_count": 21,
     "metadata": {},
     "output_type": "execute_result"
    }
   ],
   "source": [
    "pitci.helpers.check_response_within_interval(\n",
    "    intervals_with_predictions = predictions_with_interval,\n",
    "    response = diabetes['target'][sample_col == 4]\n",
    ")"
   ]
  },
  {
   "cell_type": "code",
   "execution_count": 22,
   "id": "respected-stomach",
   "metadata": {},
   "outputs": [
    {
     "data": {
      "text/plain": [
       "0.0     105.327074\n",
       "0.05    119.812879\n",
       "0.1     126.660453\n",
       "0.2     133.681453\n",
       "0.3     138.844324\n",
       "0.4     147.394536\n",
       "0.5     157.405461\n",
       "0.6     166.762037\n",
       "0.7     171.840454\n",
       "0.8     183.741989\n",
       "0.9     213.383473\n",
       "0.95    245.484369\n",
       "1.0     367.324757\n",
       "mean    165.339257\n",
       "std      44.180935\n",
       "iqr      39.734942\n",
       "dtype: float64"
      ]
     },
     "execution_count": 22,
     "metadata": {},
     "output_type": "execute_result"
    }
   ],
   "source": [
    "pitci.helpers.check_interval_width(\n",
    "    intervals_with_predictions = predictions_with_interval\n",
    ")"
   ]
  },
  {
   "cell_type": "code",
   "execution_count": 23,
   "id": "exciting-jefferson",
   "metadata": {},
   "outputs": [
    {
     "data": {
      "image/png": "[encoded data removed]",
      "text/plain": [
       "<Figure size 432x288 with 1 Axes>"
      ]
     },
     "metadata": {
      "needs_background": "light"
     },
     "output_type": "display_data"
    }
   ],
   "source": [
    "pd.Series(predictions_with_interval[:,2] - predictions_with_interval[:,0]).hist(bins=20)\n",
    "plt.title('Histogram of interval width on test sample')\n",
    "plt.xlabel(\"Interval width\")\n",
    "plt.ylabel(\"Counts\")\n",
    "plt.show()"
   ]
  },
  {
   "cell_type": "code",
   "execution_count": null,
   "id": "different-differential",
   "metadata": {},
   "outputs": [],
   "source": []
  },
  {
   "cell_type": "code",
   "execution_count": null,
   "id": "commercial-surfing",
   "metadata": {},
   "outputs": [],
   "source": []
  },
  {
   "cell_type": "code",
   "execution_count": null,
   "id": "anticipated-distinction",
   "metadata": {},
   "outputs": [],
   "source": []
  },
  {
   "cell_type": "code",
   "execution_count": null,
   "id": "military-virtue",
   "metadata": {},
   "outputs": [],
   "source": []
  },
  {
   "cell_type": "code",
   "execution_count": null,
   "id": "other-mandate",
   "metadata": {},
   "outputs": [],
   "source": []
  },
  {
   "cell_type": "code",
   "execution_count": null,
   "id": "bottom-needle",
   "metadata": {},
   "outputs": [],
   "source": []
  },
  {
   "cell_type": "code",
   "execution_count": null,
   "id": "recorded-pilot",
   "metadata": {},
   "outputs": [],
   "source": []
  },
  {
   "cell_type": "code",
   "execution_count": null,
   "id": "assumed-dressing",
   "metadata": {},
   "outputs": [],
   "source": []
  }
 ],
 "metadata": {
  "kernelspec": {
   "display_name": "pitci_dev",
   "language": "python",
   "name": "pitci_dev"
  },
  "language_info": {
   "codemirror_mode": {
    "name": "ipython",
    "version": 3
   },
   "file_extension": ".py",
   "mimetype": "text/x-python",
   "name": "python",
   "nbconvert_exporter": "python",
   "pygments_lexer": "ipython3",
   "version": "3.7.9"
  },
  "toc": {
   "base_numbering": 1,
   "nav_menu": {},
   "number_sections": true,
   "sideBar": true,
   "skip_h1_title": false,
   "title_cell": "Table of Contents",
   "title_sidebar": "Contents",
   "toc_cell": false,
   "toc_position": {},
   "toc_section_display": true,
   "toc_window_display": true
  }
 },
 "nbformat": 4,
 "nbformat_minor": 5
}
